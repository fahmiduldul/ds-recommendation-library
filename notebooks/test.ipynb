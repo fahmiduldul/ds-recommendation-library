{
 "metadata": {
  "language_info": {
   "codemirror_mode": {
    "name": "ipython",
    "version": 3
   },
   "file_extension": ".py",
   "mimetype": "text/x-python",
   "name": "python",
   "nbconvert_exporter": "python",
   "pygments_lexer": "ipython3",
   "version": "3.9.0-final"
  },
  "orig_nbformat": 2,
  "kernelspec": {
   "name": "python3",
   "display_name": "Python 3",
   "language": "python"
  }
 },
 "nbformat": 4,
 "nbformat_minor": 2,
 "cells": [
  {
   "cell_type": "code",
   "execution_count": 1,
   "metadata": {},
   "outputs": [],
   "source": [
    "import numpy as np\n",
    "import pandas as pd\n",
    "\n",
    "import sys\n",
    "sys.path.append('..')\n",
    "import recommender_functions as rf\n",
    "import recommender as rec"
   ]
  },
  {
   "cell_type": "code",
   "execution_count": 2,
   "metadata": {},
   "outputs": [],
   "source": [
    "movies_df = pd.read_csv('../data/movies_clean.csv')\n",
    "reviews_df = pd.read_csv('../data/train_data.csv')"
   ]
  },
  {
   "cell_type": "code",
   "execution_count": 3,
   "metadata": {},
   "outputs": [],
   "source": [
    "ranked_df = rf.create_ranked_movies(movies_df,reviews_df)"
   ]
  },
  {
   "cell_type": "code",
   "execution_count": 4,
   "metadata": {},
   "outputs": [
    {
     "output_type": "execute_result",
     "data": {
      "text/plain": [
       "                             movie      mean  count     latest_ts\n",
       "421.0            Goodfellas (1990)  9.666667    9.0  1.363098e+09\n",
       "1550.0        Step Brothers (2008)  9.600000    5.0  1.363266e+09\n",
       "771.0       American Beauty (1999)  9.600000    5.0  1.363108e+09\n",
       "1404.0  There Will Be Blood (2007)  9.600000    5.0  1.363088e+09\n",
       "1834.0          Gran Torino (2008)  9.600000    5.0  1.363067e+09"
      ],
      "text/html": "<div>\n<style scoped>\n    .dataframe tbody tr th:only-of-type {\n        vertical-align: middle;\n    }\n\n    .dataframe tbody tr th {\n        vertical-align: top;\n    }\n\n    .dataframe thead th {\n        text-align: right;\n    }\n</style>\n<table border=\"1\" class=\"dataframe\">\n  <thead>\n    <tr style=\"text-align: right;\">\n      <th></th>\n      <th>movie</th>\n      <th>mean</th>\n      <th>count</th>\n      <th>latest_ts</th>\n    </tr>\n  </thead>\n  <tbody>\n    <tr>\n      <th>421.0</th>\n      <td>Goodfellas (1990)</td>\n      <td>9.666667</td>\n      <td>9.0</td>\n      <td>1.363098e+09</td>\n    </tr>\n    <tr>\n      <th>1550.0</th>\n      <td>Step Brothers (2008)</td>\n      <td>9.600000</td>\n      <td>5.0</td>\n      <td>1.363266e+09</td>\n    </tr>\n    <tr>\n      <th>771.0</th>\n      <td>American Beauty (1999)</td>\n      <td>9.600000</td>\n      <td>5.0</td>\n      <td>1.363108e+09</td>\n    </tr>\n    <tr>\n      <th>1404.0</th>\n      <td>There Will Be Blood (2007)</td>\n      <td>9.600000</td>\n      <td>5.0</td>\n      <td>1.363088e+09</td>\n    </tr>\n    <tr>\n      <th>1834.0</th>\n      <td>Gran Torino (2008)</td>\n      <td>9.600000</td>\n      <td>5.0</td>\n      <td>1.363067e+09</td>\n    </tr>\n  </tbody>\n</table>\n</div>"
     },
     "metadata": {},
     "execution_count": 4
    }
   ],
   "source": [
    "ranked_df.head()"
   ]
  },
  {
   "cell_type": "code",
   "execution_count": 5,
   "metadata": {},
   "outputs": [
    {
     "output_type": "execute_result",
     "data": {
      "text/plain": [
       "['Goodfellas (1990)', 'Step Brothers (2008)']"
      ]
     },
     "metadata": {},
     "execution_count": 5
    }
   ],
   "source": [
    "list(ranked_df['movie'].iloc[:2])"
   ]
  },
  {
   "cell_type": "code",
   "execution_count": 10,
   "metadata": {},
   "outputs": [
    {
     "output_type": "stream",
     "name": "stdout",
     "text": [
      "[0 1 0 0 0 0 0 0 0 0 0 0 0 0 0 0 0 0 0 0 0 0 0 0 0 0 0 1 1 0 0]\n"
     ]
    },
    {
     "output_type": "execute_result",
     "data": {
      "text/plain": [
       "'The Champion (1915)'"
      ]
     },
     "metadata": {},
     "execution_count": 10
    }
   ],
   "source": [
    "rf.find_similiar_movies(4100,movies_df)"
   ]
  },
  {
   "cell_type": "code",
   "execution_count": 11,
   "metadata": {},
   "outputs": [],
   "source": [
    "a = np.array([[1,2,3,4],[5,6,7,8]])"
   ]
  },
  {
   "cell_type": "code",
   "execution_count": 2,
   "metadata": {
    "tags": []
   },
   "outputs": [
    {
     "output_type": "stream",
     "name": "stdout",
     "text": [
      "Interations \t | MSE\n",
      "1 \t\t | 97665.33473438762\n",
      "2 \t\t | 43503.83501210851\n",
      "3 \t\t | 25702.24612669851\n",
      "4 \t\t | 16581.664152403875\n",
      "5 \t\t | 11164.190708161485\n",
      "6 \t\t | 7749.433913908114\n",
      "7 \t\t | 5528.485783504547\n",
      "8 \t\t | 4048.4520389996983\n",
      "9 \t\t | 3037.7072685034054\n",
      "10 \t\t | 2329.1106313272103\n",
      "11 \t\t | 1818.920739934315\n",
      "12 \t\t | 1442.4213496344637\n",
      "13 \t\t | 1158.6504066399677\n",
      "14 \t\t | 940.9529544586105\n",
      "15 \t\t | 771.4179674844194\n",
      "16 \t\t | 637.6624520521007\n",
      "17 \t\t | 530.9246188725936\n",
      "18 \t\t | 444.88436378497875\n",
      "19 \t\t | 374.90564692035343\n",
      "20 \t\t | 317.53597809602354\n",
      "21 \t\t | 270.1686269005026\n",
      "22 \t\t | 230.8105668165206\n",
      "23 \t\t | 197.92046579085664\n",
      "24 \t\t | 170.293838507822\n",
      "25 \t\t | 146.98043689533543\n",
      "26 \t\t | 127.22401106994056\n",
      "27 \t\t | 110.41782802495763\n",
      "28 \t\t | 96.0714535403944\n",
      "29 \t\t | 83.78569534292772\n",
      "30 \t\t | 73.23353199331837\n",
      "31 \t\t | 64.14547745173755\n",
      "32 \t\t | 56.29826099356106\n",
      "33 \t\t | 49.50600305464956\n",
      "34 \t\t | 43.61328222269891\n",
      "35 \t\t | 38.48964413310423\n",
      "36 \t\t | 34.025217070746756\n",
      "37 \t\t | 30.12718329773501\n",
      "38 \t\t | 26.716917521479353\n",
      "39 \t\t | 23.727650163716994\n",
      "40 \t\t | 21.102547340589613\n",
      "41 \t\t | 18.793124815530998\n",
      "42 \t\t | 16.757931974272193\n",
      "43 \t\t | 14.96145584905163\n",
      "44 \t\t | 13.373205693489306\n",
      "45 \t\t | 11.966946540014062\n",
      "46 \t\t | 10.720056252490476\n",
      "47 \t\t | 9.612985313808865\n",
      "48 \t\t | 8.628802313236397\n",
      "49 \t\t | 7.7528110702718305\n",
      "50 \t\t | 6.972227728350815\n"
     ]
    }
   ],
   "source": [
    "recom = rec.Recommender()\n",
    "recom.fit('../data/train_data.csv', '../data/movies_clean.csv')\n"
   ]
  },
  {
   "cell_type": "code",
   "execution_count": 9,
   "metadata": {},
   "outputs": [
    {
     "output_type": "execute_result",
     "data": {
      "text/plain": [
       "6.355772138991696"
      ]
     },
     "metadata": {},
     "execution_count": 9
    }
   ],
   "source": [
    "recom.u_mat[6,:].dot(recom.v_mat[:,100])"
   ]
  },
  {
   "cell_type": "code",
   "execution_count": 13,
   "metadata": {},
   "outputs": [
    {
     "output_type": "error",
     "ename": "ValueError",
     "evalue": "shapes (5,) and (2,5) not aligned: 5 (dim 0) != 2 (dim 0)",
     "traceback": [
      "\u001b[0;31m---------------------------------------------------------------------------\u001b[0m",
      "\u001b[0;31mValueError\u001b[0m                                Traceback (most recent call last)",
      "\u001b[0;32m<ipython-input-13-b3486a7c8c3a>\u001b[0m in \u001b[0;36m<module>\u001b[0;34m\u001b[0m\n\u001b[1;32m      2\u001b[0m \u001b[0mb\u001b[0m \u001b[0;34m=\u001b[0m \u001b[0mnp\u001b[0m\u001b[0;34m.\u001b[0m\u001b[0marray\u001b[0m\u001b[0;34m(\u001b[0m\u001b[0;34m[\u001b[0m\u001b[0;34m[\u001b[0m\u001b[0;36m1\u001b[0m\u001b[0;34m,\u001b[0m\u001b[0;36m2\u001b[0m\u001b[0;34m,\u001b[0m\u001b[0;36m3\u001b[0m\u001b[0;34m,\u001b[0m\u001b[0;36m4\u001b[0m\u001b[0;34m,\u001b[0m\u001b[0;36m5\u001b[0m\u001b[0;34m]\u001b[0m\u001b[0;34m,\u001b[0m\u001b[0;34m[\u001b[0m\u001b[0;36m1\u001b[0m\u001b[0;34m,\u001b[0m\u001b[0;36m2\u001b[0m\u001b[0;34m,\u001b[0m\u001b[0;36m3\u001b[0m\u001b[0;34m,\u001b[0m\u001b[0;36m4\u001b[0m\u001b[0;34m,\u001b[0m\u001b[0;36m5\u001b[0m\u001b[0;34m]\u001b[0m\u001b[0;34m]\u001b[0m\u001b[0;34m)\u001b[0m\u001b[0;34m\u001b[0m\u001b[0;34m\u001b[0m\u001b[0m\n\u001b[1;32m      3\u001b[0m \u001b[0;34m\u001b[0m\u001b[0m\n\u001b[0;32m----> 4\u001b[0;31m \u001b[0ma\u001b[0m\u001b[0;34m.\u001b[0m\u001b[0mdot\u001b[0m\u001b[0;34m(\u001b[0m\u001b[0mb\u001b[0m\u001b[0;34m)\u001b[0m\u001b[0;34m\u001b[0m\u001b[0;34m\u001b[0m\u001b[0m\n\u001b[0m",
      "\u001b[0;31mValueError\u001b[0m: shapes (5,) and (2,5) not aligned: 5 (dim 0) != 2 (dim 0)"
     ]
    }
   ],
   "source": [
    "a = np.array([1,2,3,4,5])\n",
    "b = np.array([[1,2,3,4,5],[1,2,3,4,5]])\n",
    "\n",
    "a.dot(b)"
   ]
  }
 ]
}