{
 "metadata": {
  "language_info": {
   "codemirror_mode": {
    "name": "ipython",
    "version": 3
   },
   "file_extension": ".py",
   "mimetype": "text/x-python",
   "name": "python",
   "nbconvert_exporter": "python",
   "pygments_lexer": "ipython3",
   "version": "3.8.5-final"
  },
  "orig_nbformat": 2,
  "kernelspec": {
   "name": "python3",
   "display_name": "Python 3",
   "language": "python"
  }
 },
 "nbformat": 4,
 "nbformat_minor": 2,
 "cells": [
  {
   "cell_type": "code",
   "execution_count": 1,
   "metadata": {},
   "outputs": [],
   "source": [
    "import numpy as np\n",
    "import pandas as pd"
   ]
  },
  {
   "cell_type": "code",
   "execution_count": 2,
   "metadata": {},
   "outputs": [],
   "source": [
    "movies_df = pd.read_csv('../data/movies_clean.csv')\n",
    "reviews_df = pd.read_csv('../data/train_data.csv')\n",
    "\n",
    "del movies_df['Unnamed: 0']\n",
    "del reviews_df['Unnamed: 0']"
   ]
  },
  {
   "cell_type": "code",
   "execution_count": 3,
   "metadata": {},
   "outputs": [
    {
     "output_type": "execute_result",
     "data": {
      "text/plain": [
       "   movie_id                                              movie  \\\n",
       "0         8      Edison Kinetoscopic Record of a Sneeze (1894)   \n",
       "1        10                La sortie des usines Lumière (1895)   \n",
       "2        12                      The Arrival of a Train (1896)   \n",
       "3        25  The Oxford and Cambridge University Boat Race ...   \n",
       "4        91                         Le manoir du diable (1896)   \n",
       "\n",
       "               genre  date  1800's  1900's  2000's  History  News  Horror  \\\n",
       "0  Documentary|Short  1894       1       0       0        0     0       0   \n",
       "1  Documentary|Short  1895       1       0       0        0     0       0   \n",
       "2  Documentary|Short  1896       1       0       0        0     0       0   \n",
       "3                NaN  1895       1       0       0        0     0       0   \n",
       "4       Short|Horror  1896       1       0       0        0     0       1   \n",
       "\n",
       "   ...  Fantasy  Romance  Game-Show  Action  Documentary  Animation  Comedy  \\\n",
       "0  ...        0        0          0       0            1          0       0   \n",
       "1  ...        0        0          0       0            1          0       0   \n",
       "2  ...        0        0          0       0            1          0       0   \n",
       "3  ...        0        0          0       0            0          0       0   \n",
       "4  ...        0        0          0       0            0          0       0   \n",
       "\n",
       "   Short  Western  Thriller  \n",
       "0      1        0         0  \n",
       "1      1        0         0  \n",
       "2      1        0         0  \n",
       "3      0        0         0  \n",
       "4      1        0         0  \n",
       "\n",
       "[5 rows x 35 columns]"
      ],
      "text/html": "<div>\n<style scoped>\n    .dataframe tbody tr th:only-of-type {\n        vertical-align: middle;\n    }\n\n    .dataframe tbody tr th {\n        vertical-align: top;\n    }\n\n    .dataframe thead th {\n        text-align: right;\n    }\n</style>\n<table border=\"1\" class=\"dataframe\">\n  <thead>\n    <tr style=\"text-align: right;\">\n      <th></th>\n      <th>movie_id</th>\n      <th>movie</th>\n      <th>genre</th>\n      <th>date</th>\n      <th>1800's</th>\n      <th>1900's</th>\n      <th>2000's</th>\n      <th>History</th>\n      <th>News</th>\n      <th>Horror</th>\n      <th>...</th>\n      <th>Fantasy</th>\n      <th>Romance</th>\n      <th>Game-Show</th>\n      <th>Action</th>\n      <th>Documentary</th>\n      <th>Animation</th>\n      <th>Comedy</th>\n      <th>Short</th>\n      <th>Western</th>\n      <th>Thriller</th>\n    </tr>\n  </thead>\n  <tbody>\n    <tr>\n      <th>0</th>\n      <td>8</td>\n      <td>Edison Kinetoscopic Record of a Sneeze (1894)</td>\n      <td>Documentary|Short</td>\n      <td>1894</td>\n      <td>1</td>\n      <td>0</td>\n      <td>0</td>\n      <td>0</td>\n      <td>0</td>\n      <td>0</td>\n      <td>...</td>\n      <td>0</td>\n      <td>0</td>\n      <td>0</td>\n      <td>0</td>\n      <td>1</td>\n      <td>0</td>\n      <td>0</td>\n      <td>1</td>\n      <td>0</td>\n      <td>0</td>\n    </tr>\n    <tr>\n      <th>1</th>\n      <td>10</td>\n      <td>La sortie des usines Lumière (1895)</td>\n      <td>Documentary|Short</td>\n      <td>1895</td>\n      <td>1</td>\n      <td>0</td>\n      <td>0</td>\n      <td>0</td>\n      <td>0</td>\n      <td>0</td>\n      <td>...</td>\n      <td>0</td>\n      <td>0</td>\n      <td>0</td>\n      <td>0</td>\n      <td>1</td>\n      <td>0</td>\n      <td>0</td>\n      <td>1</td>\n      <td>0</td>\n      <td>0</td>\n    </tr>\n    <tr>\n      <th>2</th>\n      <td>12</td>\n      <td>The Arrival of a Train (1896)</td>\n      <td>Documentary|Short</td>\n      <td>1896</td>\n      <td>1</td>\n      <td>0</td>\n      <td>0</td>\n      <td>0</td>\n      <td>0</td>\n      <td>0</td>\n      <td>...</td>\n      <td>0</td>\n      <td>0</td>\n      <td>0</td>\n      <td>0</td>\n      <td>1</td>\n      <td>0</td>\n      <td>0</td>\n      <td>1</td>\n      <td>0</td>\n      <td>0</td>\n    </tr>\n    <tr>\n      <th>3</th>\n      <td>25</td>\n      <td>The Oxford and Cambridge University Boat Race ...</td>\n      <td>NaN</td>\n      <td>1895</td>\n      <td>1</td>\n      <td>0</td>\n      <td>0</td>\n      <td>0</td>\n      <td>0</td>\n      <td>0</td>\n      <td>...</td>\n      <td>0</td>\n      <td>0</td>\n      <td>0</td>\n      <td>0</td>\n      <td>0</td>\n      <td>0</td>\n      <td>0</td>\n      <td>0</td>\n      <td>0</td>\n      <td>0</td>\n    </tr>\n    <tr>\n      <th>4</th>\n      <td>91</td>\n      <td>Le manoir du diable (1896)</td>\n      <td>Short|Horror</td>\n      <td>1896</td>\n      <td>1</td>\n      <td>0</td>\n      <td>0</td>\n      <td>0</td>\n      <td>0</td>\n      <td>1</td>\n      <td>...</td>\n      <td>0</td>\n      <td>0</td>\n      <td>0</td>\n      <td>0</td>\n      <td>0</td>\n      <td>0</td>\n      <td>0</td>\n      <td>1</td>\n      <td>0</td>\n      <td>0</td>\n    </tr>\n  </tbody>\n</table>\n<p>5 rows × 35 columns</p>\n</div>"
     },
     "metadata": {},
     "execution_count": 3
    }
   ],
   "source": [
    "movies_df.head()"
   ]
  },
  {
   "cell_type": "code",
   "execution_count": 4,
   "metadata": {},
   "outputs": [
    {
     "output_type": "execute_result",
     "data": {
      "text/plain": [
       "   user_id  movie_id  rating   timestamp                 date  month_1  \\\n",
       "0    37287   2171847       6  1362062307  2013-02-28 14:38:27        0   \n",
       "1    33140    444778       8  1362062624  2013-02-28 14:43:44        0   \n",
       "2     6338   1411238       6  1362062838  2013-02-28 14:47:18        0   \n",
       "3    43691   1496422       7  1362063503  2013-02-28 14:58:23        0   \n",
       "4    33799    118799       5  1362063653  2013-02-28 15:00:53        0   \n",
       "\n",
       "   month_2  month_3  month_4  month_5  ...  month_9  month_10  month_11  \\\n",
       "0        0        0        0        0  ...        0         0         0   \n",
       "1        0        0        0        0  ...        0         0         0   \n",
       "2        0        0        0        0  ...        0         0         0   \n",
       "3        0        0        0        0  ...        0         0         0   \n",
       "4        0        0        0        0  ...        0         0         0   \n",
       "\n",
       "   month_12  year_2013  year_2014  year_2015  year_2016  year_2017  year_2018  \n",
       "0         0          1          0          0          0          0          0  \n",
       "1         0          1          0          0          0          0          0  \n",
       "2         0          1          0          0          0          0          0  \n",
       "3         0          1          0          0          0          0          0  \n",
       "4         0          1          0          0          0          0          0  \n",
       "\n",
       "[5 rows x 23 columns]"
      ],
      "text/html": "<div>\n<style scoped>\n    .dataframe tbody tr th:only-of-type {\n        vertical-align: middle;\n    }\n\n    .dataframe tbody tr th {\n        vertical-align: top;\n    }\n\n    .dataframe thead th {\n        text-align: right;\n    }\n</style>\n<table border=\"1\" class=\"dataframe\">\n  <thead>\n    <tr style=\"text-align: right;\">\n      <th></th>\n      <th>user_id</th>\n      <th>movie_id</th>\n      <th>rating</th>\n      <th>timestamp</th>\n      <th>date</th>\n      <th>month_1</th>\n      <th>month_2</th>\n      <th>month_3</th>\n      <th>month_4</th>\n      <th>month_5</th>\n      <th>...</th>\n      <th>month_9</th>\n      <th>month_10</th>\n      <th>month_11</th>\n      <th>month_12</th>\n      <th>year_2013</th>\n      <th>year_2014</th>\n      <th>year_2015</th>\n      <th>year_2016</th>\n      <th>year_2017</th>\n      <th>year_2018</th>\n    </tr>\n  </thead>\n  <tbody>\n    <tr>\n      <th>0</th>\n      <td>37287</td>\n      <td>2171847</td>\n      <td>6</td>\n      <td>1362062307</td>\n      <td>2013-02-28 14:38:27</td>\n      <td>0</td>\n      <td>0</td>\n      <td>0</td>\n      <td>0</td>\n      <td>0</td>\n      <td>...</td>\n      <td>0</td>\n      <td>0</td>\n      <td>0</td>\n      <td>0</td>\n      <td>1</td>\n      <td>0</td>\n      <td>0</td>\n      <td>0</td>\n      <td>0</td>\n      <td>0</td>\n    </tr>\n    <tr>\n      <th>1</th>\n      <td>33140</td>\n      <td>444778</td>\n      <td>8</td>\n      <td>1362062624</td>\n      <td>2013-02-28 14:43:44</td>\n      <td>0</td>\n      <td>0</td>\n      <td>0</td>\n      <td>0</td>\n      <td>0</td>\n      <td>...</td>\n      <td>0</td>\n      <td>0</td>\n      <td>0</td>\n      <td>0</td>\n      <td>1</td>\n      <td>0</td>\n      <td>0</td>\n      <td>0</td>\n      <td>0</td>\n      <td>0</td>\n    </tr>\n    <tr>\n      <th>2</th>\n      <td>6338</td>\n      <td>1411238</td>\n      <td>6</td>\n      <td>1362062838</td>\n      <td>2013-02-28 14:47:18</td>\n      <td>0</td>\n      <td>0</td>\n      <td>0</td>\n      <td>0</td>\n      <td>0</td>\n      <td>...</td>\n      <td>0</td>\n      <td>0</td>\n      <td>0</td>\n      <td>0</td>\n      <td>1</td>\n      <td>0</td>\n      <td>0</td>\n      <td>0</td>\n      <td>0</td>\n      <td>0</td>\n    </tr>\n    <tr>\n      <th>3</th>\n      <td>43691</td>\n      <td>1496422</td>\n      <td>7</td>\n      <td>1362063503</td>\n      <td>2013-02-28 14:58:23</td>\n      <td>0</td>\n      <td>0</td>\n      <td>0</td>\n      <td>0</td>\n      <td>0</td>\n      <td>...</td>\n      <td>0</td>\n      <td>0</td>\n      <td>0</td>\n      <td>0</td>\n      <td>1</td>\n      <td>0</td>\n      <td>0</td>\n      <td>0</td>\n      <td>0</td>\n      <td>0</td>\n    </tr>\n    <tr>\n      <th>4</th>\n      <td>33799</td>\n      <td>118799</td>\n      <td>5</td>\n      <td>1362063653</td>\n      <td>2013-02-28 15:00:53</td>\n      <td>0</td>\n      <td>0</td>\n      <td>0</td>\n      <td>0</td>\n      <td>0</td>\n      <td>...</td>\n      <td>0</td>\n      <td>0</td>\n      <td>0</td>\n      <td>0</td>\n      <td>1</td>\n      <td>0</td>\n      <td>0</td>\n      <td>0</td>\n      <td>0</td>\n      <td>0</td>\n    </tr>\n  </tbody>\n</table>\n<p>5 rows × 23 columns</p>\n</div>"
     },
     "metadata": {},
     "execution_count": 4
    }
   ],
   "source": [
    "reviews_df.head()"
   ]
  },
  {
   "source": [
    "### creating ranked df"
   ],
   "cell_type": "markdown",
   "metadata": {}
  },
  {
   "cell_type": "code",
   "execution_count": 5,
   "metadata": {},
   "outputs": [],
   "source": [
    "rating_mean = reviews_df.groupby('movie_id')['rating'].mean()\n",
    "rating_count = reviews_df.groupby('movie_id')['rating'].count()\n",
    "rating_latest = reviews_df.groupby('movie_id')['timestamp'].max()"
   ]
  },
  {
   "cell_type": "code",
   "execution_count": 6,
   "metadata": {},
   "outputs": [
    {
     "output_type": "execute_result",
     "data": {
      "text/plain": [
       "1362633757"
      ]
     },
     "metadata": {},
     "execution_count": 6
    }
   ],
   "source": [
    "rating_latest[20629]"
   ]
  },
  {
   "cell_type": "code",
   "execution_count": 7,
   "metadata": {},
   "outputs": [
    {
     "output_type": "execute_result",
     "data": {
      "text/plain": [
       "       movie_id                                              movie  \\\n",
       "0             8      Edison Kinetoscopic Record of a Sneeze (1894)   \n",
       "1            10                La sortie des usines Lumière (1895)   \n",
       "2            12                      The Arrival of a Train (1896)   \n",
       "3            25  The Oxford and Cambridge University Boat Race ...   \n",
       "4            91                         Le manoir du diable (1896)   \n",
       "...         ...                                                ...   \n",
       "31240   8335880                                      Loro 2 (2018)   \n",
       "31241   8342748         Hari Kondabolu: Warn Your Relatives (2018)   \n",
       "31242   8342946                Tig Notaro: Happy To Be Here (2018)   \n",
       "31243   8402090                              Cumali Ceber 2 (2018)   \n",
       "31244   8439854                                Lust Stories (2018)   \n",
       "\n",
       "                   genre  date  1800's  1900's  2000's  History  News  Horror  \\\n",
       "0      Documentary|Short  1894       1       0       0        0     0       0   \n",
       "1      Documentary|Short  1895       1       0       0        0     0       0   \n",
       "2      Documentary|Short  1896       1       0       0        0     0       0   \n",
       "3                    NaN  1895       1       0       0        0     0       0   \n",
       "4           Short|Horror  1896       1       0       0        0     0       1   \n",
       "...                  ...   ...     ...     ...     ...      ...   ...     ...   \n",
       "31240          Biography  2018       0       0       1        0     0       0   \n",
       "31241             Comedy  2018       0       0       1        0     0       0   \n",
       "31242             Comedy  2018       0       0       1        0     0       0   \n",
       "31243             Comedy  2018       0       0       1        0     0       0   \n",
       "31244              Drama  2018       0       0       1        0     0       0   \n",
       "\n",
       "       ...  Fantasy  Romance  Game-Show  Action  Documentary  Animation  \\\n",
       "0      ...        0        0          0       0            1          0   \n",
       "1      ...        0        0          0       0            1          0   \n",
       "2      ...        0        0          0       0            1          0   \n",
       "3      ...        0        0          0       0            0          0   \n",
       "4      ...        0        0          0       0            0          0   \n",
       "...    ...      ...      ...        ...     ...          ...        ...   \n",
       "31240  ...        0        0          0       0            0          0   \n",
       "31241  ...        0        0          0       0            0          0   \n",
       "31242  ...        0        0          0       0            0          0   \n",
       "31243  ...        0        0          0       0            0          0   \n",
       "31244  ...        0        0          0       0            0          0   \n",
       "\n",
       "       Comedy  Short  Western  Thriller  \n",
       "0           0      1        0         0  \n",
       "1           0      1        0         0  \n",
       "2           0      1        0         0  \n",
       "3           0      0        0         0  \n",
       "4           0      1        0         0  \n",
       "...       ...    ...      ...       ...  \n",
       "31240       0      0        0         0  \n",
       "31241       1      0        0         0  \n",
       "31242       1      0        0         0  \n",
       "31243       1      0        0         0  \n",
       "31244       0      0        0         0  \n",
       "\n",
       "[31245 rows x 35 columns]"
      ],
      "text/html": "<div>\n<style scoped>\n    .dataframe tbody tr th:only-of-type {\n        vertical-align: middle;\n    }\n\n    .dataframe tbody tr th {\n        vertical-align: top;\n    }\n\n    .dataframe thead th {\n        text-align: right;\n    }\n</style>\n<table border=\"1\" class=\"dataframe\">\n  <thead>\n    <tr style=\"text-align: right;\">\n      <th></th>\n      <th>movie_id</th>\n      <th>movie</th>\n      <th>genre</th>\n      <th>date</th>\n      <th>1800's</th>\n      <th>1900's</th>\n      <th>2000's</th>\n      <th>History</th>\n      <th>News</th>\n      <th>Horror</th>\n      <th>...</th>\n      <th>Fantasy</th>\n      <th>Romance</th>\n      <th>Game-Show</th>\n      <th>Action</th>\n      <th>Documentary</th>\n      <th>Animation</th>\n      <th>Comedy</th>\n      <th>Short</th>\n      <th>Western</th>\n      <th>Thriller</th>\n    </tr>\n  </thead>\n  <tbody>\n    <tr>\n      <th>0</th>\n      <td>8</td>\n      <td>Edison Kinetoscopic Record of a Sneeze (1894)</td>\n      <td>Documentary|Short</td>\n      <td>1894</td>\n      <td>1</td>\n      <td>0</td>\n      <td>0</td>\n      <td>0</td>\n      <td>0</td>\n      <td>0</td>\n      <td>...</td>\n      <td>0</td>\n      <td>0</td>\n      <td>0</td>\n      <td>0</td>\n      <td>1</td>\n      <td>0</td>\n      <td>0</td>\n      <td>1</td>\n      <td>0</td>\n      <td>0</td>\n    </tr>\n    <tr>\n      <th>1</th>\n      <td>10</td>\n      <td>La sortie des usines Lumière (1895)</td>\n      <td>Documentary|Short</td>\n      <td>1895</td>\n      <td>1</td>\n      <td>0</td>\n      <td>0</td>\n      <td>0</td>\n      <td>0</td>\n      <td>0</td>\n      <td>...</td>\n      <td>0</td>\n      <td>0</td>\n      <td>0</td>\n      <td>0</td>\n      <td>1</td>\n      <td>0</td>\n      <td>0</td>\n      <td>1</td>\n      <td>0</td>\n      <td>0</td>\n    </tr>\n    <tr>\n      <th>2</th>\n      <td>12</td>\n      <td>The Arrival of a Train (1896)</td>\n      <td>Documentary|Short</td>\n      <td>1896</td>\n      <td>1</td>\n      <td>0</td>\n      <td>0</td>\n      <td>0</td>\n      <td>0</td>\n      <td>0</td>\n      <td>...</td>\n      <td>0</td>\n      <td>0</td>\n      <td>0</td>\n      <td>0</td>\n      <td>1</td>\n      <td>0</td>\n      <td>0</td>\n      <td>1</td>\n      <td>0</td>\n      <td>0</td>\n    </tr>\n    <tr>\n      <th>3</th>\n      <td>25</td>\n      <td>The Oxford and Cambridge University Boat Race ...</td>\n      <td>NaN</td>\n      <td>1895</td>\n      <td>1</td>\n      <td>0</td>\n      <td>0</td>\n      <td>0</td>\n      <td>0</td>\n      <td>0</td>\n      <td>...</td>\n      <td>0</td>\n      <td>0</td>\n      <td>0</td>\n      <td>0</td>\n      <td>0</td>\n      <td>0</td>\n      <td>0</td>\n      <td>0</td>\n      <td>0</td>\n      <td>0</td>\n    </tr>\n    <tr>\n      <th>4</th>\n      <td>91</td>\n      <td>Le manoir du diable (1896)</td>\n      <td>Short|Horror</td>\n      <td>1896</td>\n      <td>1</td>\n      <td>0</td>\n      <td>0</td>\n      <td>0</td>\n      <td>0</td>\n      <td>1</td>\n      <td>...</td>\n      <td>0</td>\n      <td>0</td>\n      <td>0</td>\n      <td>0</td>\n      <td>0</td>\n      <td>0</td>\n      <td>0</td>\n      <td>1</td>\n      <td>0</td>\n      <td>0</td>\n    </tr>\n    <tr>\n      <th>...</th>\n      <td>...</td>\n      <td>...</td>\n      <td>...</td>\n      <td>...</td>\n      <td>...</td>\n      <td>...</td>\n      <td>...</td>\n      <td>...</td>\n      <td>...</td>\n      <td>...</td>\n      <td>...</td>\n      <td>...</td>\n      <td>...</td>\n      <td>...</td>\n      <td>...</td>\n      <td>...</td>\n      <td>...</td>\n      <td>...</td>\n      <td>...</td>\n      <td>...</td>\n      <td>...</td>\n    </tr>\n    <tr>\n      <th>31240</th>\n      <td>8335880</td>\n      <td>Loro 2 (2018)</td>\n      <td>Biography</td>\n      <td>2018</td>\n      <td>0</td>\n      <td>0</td>\n      <td>1</td>\n      <td>0</td>\n      <td>0</td>\n      <td>0</td>\n      <td>...</td>\n      <td>0</td>\n      <td>0</td>\n      <td>0</td>\n      <td>0</td>\n      <td>0</td>\n      <td>0</td>\n      <td>0</td>\n      <td>0</td>\n      <td>0</td>\n      <td>0</td>\n    </tr>\n    <tr>\n      <th>31241</th>\n      <td>8342748</td>\n      <td>Hari Kondabolu: Warn Your Relatives (2018)</td>\n      <td>Comedy</td>\n      <td>2018</td>\n      <td>0</td>\n      <td>0</td>\n      <td>1</td>\n      <td>0</td>\n      <td>0</td>\n      <td>0</td>\n      <td>...</td>\n      <td>0</td>\n      <td>0</td>\n      <td>0</td>\n      <td>0</td>\n      <td>0</td>\n      <td>0</td>\n      <td>1</td>\n      <td>0</td>\n      <td>0</td>\n      <td>0</td>\n    </tr>\n    <tr>\n      <th>31242</th>\n      <td>8342946</td>\n      <td>Tig Notaro: Happy To Be Here (2018)</td>\n      <td>Comedy</td>\n      <td>2018</td>\n      <td>0</td>\n      <td>0</td>\n      <td>1</td>\n      <td>0</td>\n      <td>0</td>\n      <td>0</td>\n      <td>...</td>\n      <td>0</td>\n      <td>0</td>\n      <td>0</td>\n      <td>0</td>\n      <td>0</td>\n      <td>0</td>\n      <td>1</td>\n      <td>0</td>\n      <td>0</td>\n      <td>0</td>\n    </tr>\n    <tr>\n      <th>31243</th>\n      <td>8402090</td>\n      <td>Cumali Ceber 2 (2018)</td>\n      <td>Comedy</td>\n      <td>2018</td>\n      <td>0</td>\n      <td>0</td>\n      <td>1</td>\n      <td>0</td>\n      <td>0</td>\n      <td>0</td>\n      <td>...</td>\n      <td>0</td>\n      <td>0</td>\n      <td>0</td>\n      <td>0</td>\n      <td>0</td>\n      <td>0</td>\n      <td>1</td>\n      <td>0</td>\n      <td>0</td>\n      <td>0</td>\n    </tr>\n    <tr>\n      <th>31244</th>\n      <td>8439854</td>\n      <td>Lust Stories (2018)</td>\n      <td>Drama</td>\n      <td>2018</td>\n      <td>0</td>\n      <td>0</td>\n      <td>1</td>\n      <td>0</td>\n      <td>0</td>\n      <td>0</td>\n      <td>...</td>\n      <td>0</td>\n      <td>0</td>\n      <td>0</td>\n      <td>0</td>\n      <td>0</td>\n      <td>0</td>\n      <td>0</td>\n      <td>0</td>\n      <td>0</td>\n      <td>0</td>\n    </tr>\n  </tbody>\n</table>\n<p>31245 rows × 35 columns</p>\n</div>"
     },
     "metadata": {},
     "execution_count": 7
    }
   ],
   "source": [
    "movies_df"
   ]
  },
  {
   "cell_type": "code",
   "execution_count": 8,
   "metadata": {},
   "outputs": [],
   "source": [
    "def create_ranked_df(movies_df: pd.DataFrame = movies_df, reviews_df: pd.DataFrame = reviews_df):\n",
    "    rating_mean = reviews_df.groupby('movie_id')['rating'].mean()\n",
    "    rating_count = reviews_df.groupby('movie_id')['rating'].count()\n",
    "    rating_latest = reviews_df.groupby('movie_id')['timestamp'].max()\n",
    "    rating_df = pd.DataFrame({\"mean\": rating_mean, \"count\": rating_count, \"latest_ts\": rating_latest})\n",
    "\n",
    "    ranked_movie = movies_df.merge(rating_df, how='left', on='movie_id', right_index=True)\n",
    "    ranked_movie.sort_values([\"mean\",\"count\",\"latest_ts\"], ascending=False, inplace=True)\n",
    "    ranked_movie = ranked_movie[ranked_movie['count'] > 4][[\"movie\", \"mean\",\"count\",\"latest_ts\"]]\n",
    "\n",
    "    return ranked_movie\n",
    "    \n"
   ]
  },
  {
   "cell_type": "code",
   "execution_count": 9,
   "metadata": {},
   "outputs": [
    {
     "output_type": "execute_result",
     "data": {
      "text/plain": [
       "Empty DataFrame\n",
       "Columns: [movie, mean, count, latest_ts]\n",
       "Index: []"
      ],
      "text/html": "<div>\n<style scoped>\n    .dataframe tbody tr th:only-of-type {\n        vertical-align: middle;\n    }\n\n    .dataframe tbody tr th {\n        vertical-align: top;\n    }\n\n    .dataframe thead th {\n        text-align: right;\n    }\n</style>\n<table border=\"1\" class=\"dataframe\">\n  <thead>\n    <tr style=\"text-align: right;\">\n      <th></th>\n      <th>movie</th>\n      <th>mean</th>\n      <th>count</th>\n      <th>latest_ts</th>\n    </tr>\n  </thead>\n  <tbody>\n  </tbody>\n</table>\n</div>"
     },
     "metadata": {},
     "execution_count": 9
    }
   ],
   "source": [
    "ranked_df = create_ranked_df()\n",
    "ranked_df"
   ]
  },
  {
   "source": [
    "## Find Similiar Movie"
   ],
   "cell_type": "markdown",
   "metadata": {}
  },
  {
   "cell_type": "code",
   "execution_count": 10,
   "metadata": {},
   "outputs": [
    {
     "output_type": "execute_result",
     "data": {
      "text/plain": [
       "array([[0, 1, 0, 0, 0, 0, 0, 0, 0, 0, 0, 0, 0, 0, 0, 0, 0, 0, 0, 0, 0, 0,\n",
       "        0, 0, 0, 0, 0, 1, 1, 0, 0]])"
      ]
     },
     "metadata": {},
     "execution_count": 10
    }
   ],
   "source": [
    "    movie_mat = movies_df[movies_df['movie_id'] == 4100].iloc[:,4:]\n",
    "    np.array(movie_mat)\n"
   ]
  },
  {
   "cell_type": "code",
   "execution_count": 11,
   "metadata": {},
   "outputs": [
    {
     "output_type": "execute_result",
     "data": {
      "text/plain": [
       "array([[1, 1, 1, ..., 0, 0, 0],\n",
       "       [0, 0, 0, ..., 0, 0, 0],\n",
       "       [0, 0, 0, ..., 1, 1, 1],\n",
       "       ...,\n",
       "       [1, 1, 1, ..., 0, 0, 0],\n",
       "       [0, 0, 0, ..., 0, 0, 0],\n",
       "       [0, 0, 0, ..., 0, 0, 0]])"
      ]
     },
     "metadata": {},
     "execution_count": 11
    }
   ],
   "source": [
    "np.array(movies_df.iloc[:,4:]).transpose()"
   ]
  },
  {
   "cell_type": "code",
   "execution_count": 12,
   "metadata": {},
   "outputs": [],
   "source": [
    "def find_similiar_movie(movie_id: int, movies_df: pd.DataFrame = movies_df):\n",
    "    #get row of given movie_id feature\n",
    "    movie_mat = np.array(movies_df[movies_df['movie_id'] == movie_id].iloc[:,4:])[0]\n",
    "    print(movie_mat)\n",
    "    #get feature matrix of all movies\n",
    "    movies_mat = np.array(movies_df.iloc[:,4:])\n",
    "    \n",
    "    #calculate similiarity between given movie and all movie\n",
    "    dot_prod = movie_mat.dot(movies_mat.transpose())\n",
    "\n",
    "    #get the most likely movie\n",
    "    movie_rows = np.where(dot_prod == np.max(dot_prod))[0]\n",
    "    movie_row = np.random.choice(movie_rows)\n",
    "    movie = movies_df.iloc[movie_row]['movie']\n",
    "    return movie"
   ]
  },
  {
   "cell_type": "code",
   "execution_count": 13,
   "metadata": {},
   "outputs": [
    {
     "output_type": "stream",
     "name": "stdout",
     "text": [
      "[0 0 1 0 0 0 0 0 0 0 0 0 0 0 0 0 0 0 0 0 0 0 0 0 1 0 0 0 0 0 1]\n"
     ]
    },
    {
     "output_type": "execute_result",
     "data": {
      "text/plain": [
       "'Thani Oruvan (2015)'"
      ]
     },
     "metadata": {},
     "execution_count": 13
    }
   ],
   "source": [
    "find_similiar_movie(2649128, movies_df)"
   ]
  },
  {
   "cell_type": "code",
   "execution_count": 14,
   "metadata": {},
   "outputs": [],
   "source": [
    "def funk_svd_fit(reviews_df: pd.DataFrame, latent_features=20, learning_rate=0.005, iters=10):\n",
    "    user_review_df = reviews_df.groupby(['user_id', 'movie_id'])['rating'].max().unstack()\n",
    "    user_review_mat = np.array(user_review_df)\n",
    "    n_users = user_review_df.shape[0]\n",
    "    n_movies = user_review_df.shape[1]\n",
    "    n_ratings = np.count_nonzero(user_review_df)\n",
    "\n",
    "    u_mat = np.random.rand(n_users, latent_features)\n",
    "    v_mat = np.random.rand(latent_features, n_movies)\n",
    "\n",
    "    print(\"Iterations | MSE\")\n",
    "\n",
    "    for iteration in range(iters):\n",
    "        sse_cum = 0\n",
    "        for i in range(n_users):\n",
    "            for j in range(n_movies):\n",
    "                if user_review_mat[i,j] > 0:\n",
    "                    diff = user_review_mat[i,j] - u_mat[i,:].dot(v_mat[:,j])\n",
    "                    sse_cum += diff**2\n",
    "\n",
    "                    for k in range(latent_features):\n",
    "                        u_mat[i,k] += learning_rate * 2 * diff * v_mat[k,j]\n",
    "                        v_mat[k,j] += learning_rate * 2 * diff * u_mat[i,k]\n",
    "    \n",
    "        print(\"%d \\t\\t %f\" % (iteration+1, sse_cum / n_ratings))\n",
    "    \n",
    "    return u_mat, v_mat\n",
    "\n"
   ]
  },
  {
   "cell_type": "code",
   "execution_count": 15,
   "metadata": {},
   "outputs": [
    {
     "output_type": "stream",
     "name": "stdout",
     "text": [
      "Iterations | MSE\n",
      "1 \t\t 0.005841\n",
      "2 \t\t 0.003461\n",
      "3 \t\t 0.002466\n",
      "4 \t\t 0.001876\n",
      "5 \t\t 0.001483\n",
      "6 \t\t 0.001201\n",
      "7 \t\t 0.000990\n",
      "8 \t\t 0.000826\n",
      "9 \t\t 0.000696\n",
      "10 \t\t 0.000591\n",
      "11 \t\t 0.000504\n",
      "12 \t\t 0.000433\n",
      "13 \t\t 0.000373\n",
      "14 \t\t 0.000322\n",
      "15 \t\t 0.000279\n",
      "16 \t\t 0.000243\n",
      "17 \t\t 0.000212\n",
      "18 \t\t 0.000185\n",
      "19 \t\t 0.000162\n",
      "20 \t\t 0.000142\n"
     ]
    }
   ],
   "source": [
    "u_mat, v_mat = funk_svd_fit(reviews_df, iters=20)"
   ]
  },
  {
   "cell_type": "code",
   "execution_count": 29,
   "metadata": {},
   "outputs": [
    {
     "output_type": "execute_result",
     "data": {
      "text/plain": [
       "7.210229516362975"
      ]
     },
     "metadata": {},
     "execution_count": 29
    }
   ],
   "source": [
    "def predict(u_mat, v_mat, user, movie):\n",
    "    return u_mat[user,:].dot(v_mat[:,movie])\n",
    "\n",
    "predict(u_mat, v_mat, 1270, 50)"
   ]
  },
  {
   "cell_type": "code",
   "execution_count": 61,
   "metadata": {},
   "outputs": [
    {
     "output_type": "execute_result",
     "data": {
      "text/plain": [
       "nan"
      ]
     },
     "metadata": {},
     "execution_count": 61
    }
   ],
   "source": [
    "a = np.array([np.nan, np.nan])\n",
    "a[0]"
   ]
  }
 ]
}