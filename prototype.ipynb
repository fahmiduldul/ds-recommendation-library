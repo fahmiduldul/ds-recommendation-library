{
 "metadata": {
  "language_info": {
   "codemirror_mode": {
    "name": "ipython",
    "version": 3
   },
   "file_extension": ".py",
   "mimetype": "text/x-python",
   "name": "python",
   "nbconvert_exporter": "python",
   "pygments_lexer": "ipython3",
   "version": "3.9.0-final"
  },
  "orig_nbformat": 2,
  "kernelspec": {
   "name": "python3",
   "display_name": "Python 3",
   "language": "python"
  }
 },
 "nbformat": 4,
 "nbformat_minor": 2,
 "cells": [
  {
   "cell_type": "code",
   "execution_count": 1,
   "metadata": {},
   "outputs": [],
   "source": [
    "import numpy as np\n",
    "import pandas as pd"
   ]
  },
  {
   "cell_type": "code",
   "execution_count": 2,
   "metadata": {},
   "outputs": [],
   "source": [
    "movies_df = pd.read_csv('./data/movies_clean.csv')\n",
    "reviews_df = pd.read_csv('./data/train_data.csv')\n",
    "\n",
    "del movies_df['Unnamed: 0']\n",
    "del reviews_df['Unnamed: 0']"
   ]
  },
  {
   "cell_type": "code",
   "execution_count": 3,
   "metadata": {},
   "outputs": [
    {
     "output_type": "execute_result",
     "data": {
      "text/plain": [
       "   movie_id                                              movie  \\\n",
       "0         8      Edison Kinetoscopic Record of a Sneeze (1894)   \n",
       "1        10                La sortie des usines Lumière (1895)   \n",
       "2        12                      The Arrival of a Train (1896)   \n",
       "3        25  The Oxford and Cambridge University Boat Race ...   \n",
       "4        91                         Le manoir du diable (1896)   \n",
       "\n",
       "               genre  date  1800's  1900's  2000's  History  News  Horror  \\\n",
       "0  Documentary|Short  1894       1       0       0        0     0       0   \n",
       "1  Documentary|Short  1895       1       0       0        0     0       0   \n",
       "2  Documentary|Short  1896       1       0       0        0     0       0   \n",
       "3                NaN  1895       1       0       0        0     0       0   \n",
       "4       Short|Horror  1896       1       0       0        0     0       1   \n",
       "\n",
       "   ...  Fantasy  Romance  Game-Show  Action  Documentary  Animation  Comedy  \\\n",
       "0  ...        0        0          0       0            1          0       0   \n",
       "1  ...        0        0          0       0            1          0       0   \n",
       "2  ...        0        0          0       0            1          0       0   \n",
       "3  ...        0        0          0       0            0          0       0   \n",
       "4  ...        0        0          0       0            0          0       0   \n",
       "\n",
       "   Short  Western  Thriller  \n",
       "0      1        0         0  \n",
       "1      1        0         0  \n",
       "2      1        0         0  \n",
       "3      0        0         0  \n",
       "4      1        0         0  \n",
       "\n",
       "[5 rows x 35 columns]"
      ],
      "text/html": "<div>\n<style scoped>\n    .dataframe tbody tr th:only-of-type {\n        vertical-align: middle;\n    }\n\n    .dataframe tbody tr th {\n        vertical-align: top;\n    }\n\n    .dataframe thead th {\n        text-align: right;\n    }\n</style>\n<table border=\"1\" class=\"dataframe\">\n  <thead>\n    <tr style=\"text-align: right;\">\n      <th></th>\n      <th>movie_id</th>\n      <th>movie</th>\n      <th>genre</th>\n      <th>date</th>\n      <th>1800's</th>\n      <th>1900's</th>\n      <th>2000's</th>\n      <th>History</th>\n      <th>News</th>\n      <th>Horror</th>\n      <th>...</th>\n      <th>Fantasy</th>\n      <th>Romance</th>\n      <th>Game-Show</th>\n      <th>Action</th>\n      <th>Documentary</th>\n      <th>Animation</th>\n      <th>Comedy</th>\n      <th>Short</th>\n      <th>Western</th>\n      <th>Thriller</th>\n    </tr>\n  </thead>\n  <tbody>\n    <tr>\n      <th>0</th>\n      <td>8</td>\n      <td>Edison Kinetoscopic Record of a Sneeze (1894)</td>\n      <td>Documentary|Short</td>\n      <td>1894</td>\n      <td>1</td>\n      <td>0</td>\n      <td>0</td>\n      <td>0</td>\n      <td>0</td>\n      <td>0</td>\n      <td>...</td>\n      <td>0</td>\n      <td>0</td>\n      <td>0</td>\n      <td>0</td>\n      <td>1</td>\n      <td>0</td>\n      <td>0</td>\n      <td>1</td>\n      <td>0</td>\n      <td>0</td>\n    </tr>\n    <tr>\n      <th>1</th>\n      <td>10</td>\n      <td>La sortie des usines Lumière (1895)</td>\n      <td>Documentary|Short</td>\n      <td>1895</td>\n      <td>1</td>\n      <td>0</td>\n      <td>0</td>\n      <td>0</td>\n      <td>0</td>\n      <td>0</td>\n      <td>...</td>\n      <td>0</td>\n      <td>0</td>\n      <td>0</td>\n      <td>0</td>\n      <td>1</td>\n      <td>0</td>\n      <td>0</td>\n      <td>1</td>\n      <td>0</td>\n      <td>0</td>\n    </tr>\n    <tr>\n      <th>2</th>\n      <td>12</td>\n      <td>The Arrival of a Train (1896)</td>\n      <td>Documentary|Short</td>\n      <td>1896</td>\n      <td>1</td>\n      <td>0</td>\n      <td>0</td>\n      <td>0</td>\n      <td>0</td>\n      <td>0</td>\n      <td>...</td>\n      <td>0</td>\n      <td>0</td>\n      <td>0</td>\n      <td>0</td>\n      <td>1</td>\n      <td>0</td>\n      <td>0</td>\n      <td>1</td>\n      <td>0</td>\n      <td>0</td>\n    </tr>\n    <tr>\n      <th>3</th>\n      <td>25</td>\n      <td>The Oxford and Cambridge University Boat Race ...</td>\n      <td>NaN</td>\n      <td>1895</td>\n      <td>1</td>\n      <td>0</td>\n      <td>0</td>\n      <td>0</td>\n      <td>0</td>\n      <td>0</td>\n      <td>...</td>\n      <td>0</td>\n      <td>0</td>\n      <td>0</td>\n      <td>0</td>\n      <td>0</td>\n      <td>0</td>\n      <td>0</td>\n      <td>0</td>\n      <td>0</td>\n      <td>0</td>\n    </tr>\n    <tr>\n      <th>4</th>\n      <td>91</td>\n      <td>Le manoir du diable (1896)</td>\n      <td>Short|Horror</td>\n      <td>1896</td>\n      <td>1</td>\n      <td>0</td>\n      <td>0</td>\n      <td>0</td>\n      <td>0</td>\n      <td>1</td>\n      <td>...</td>\n      <td>0</td>\n      <td>0</td>\n      <td>0</td>\n      <td>0</td>\n      <td>0</td>\n      <td>0</td>\n      <td>0</td>\n      <td>1</td>\n      <td>0</td>\n      <td>0</td>\n    </tr>\n  </tbody>\n</table>\n<p>5 rows × 35 columns</p>\n</div>"
     },
     "metadata": {},
     "execution_count": 3
    }
   ],
   "source": [
    "movies_df.head()"
   ]
  },
  {
   "cell_type": "code",
   "execution_count": 4,
   "metadata": {},
   "outputs": [
    {
     "output_type": "execute_result",
     "data": {
      "text/plain": [
       "   user_id  movie_id  rating   timestamp                 date  month_1  \\\n",
       "0    37287   2171847       6  1362062307  2013-02-28 14:38:27        0   \n",
       "1    33140    444778       8  1362062624  2013-02-28 14:43:44        0   \n",
       "2     6338   1411238       6  1362062838  2013-02-28 14:47:18        0   \n",
       "3    43691   1496422       7  1362063503  2013-02-28 14:58:23        0   \n",
       "4    33799    118799       5  1362063653  2013-02-28 15:00:53        0   \n",
       "\n",
       "   month_2  month_3  month_4  month_5  ...  month_9  month_10  month_11  \\\n",
       "0        0        0        0        0  ...        0         0         0   \n",
       "1        0        0        0        0  ...        0         0         0   \n",
       "2        0        0        0        0  ...        0         0         0   \n",
       "3        0        0        0        0  ...        0         0         0   \n",
       "4        0        0        0        0  ...        0         0         0   \n",
       "\n",
       "   month_12  year_2013  year_2014  year_2015  year_2016  year_2017  year_2018  \n",
       "0         0          1          0          0          0          0          0  \n",
       "1         0          1          0          0          0          0          0  \n",
       "2         0          1          0          0          0          0          0  \n",
       "3         0          1          0          0          0          0          0  \n",
       "4         0          1          0          0          0          0          0  \n",
       "\n",
       "[5 rows x 23 columns]"
      ],
      "text/html": "<div>\n<style scoped>\n    .dataframe tbody tr th:only-of-type {\n        vertical-align: middle;\n    }\n\n    .dataframe tbody tr th {\n        vertical-align: top;\n    }\n\n    .dataframe thead th {\n        text-align: right;\n    }\n</style>\n<table border=\"1\" class=\"dataframe\">\n  <thead>\n    <tr style=\"text-align: right;\">\n      <th></th>\n      <th>user_id</th>\n      <th>movie_id</th>\n      <th>rating</th>\n      <th>timestamp</th>\n      <th>date</th>\n      <th>month_1</th>\n      <th>month_2</th>\n      <th>month_3</th>\n      <th>month_4</th>\n      <th>month_5</th>\n      <th>...</th>\n      <th>month_9</th>\n      <th>month_10</th>\n      <th>month_11</th>\n      <th>month_12</th>\n      <th>year_2013</th>\n      <th>year_2014</th>\n      <th>year_2015</th>\n      <th>year_2016</th>\n      <th>year_2017</th>\n      <th>year_2018</th>\n    </tr>\n  </thead>\n  <tbody>\n    <tr>\n      <th>0</th>\n      <td>37287</td>\n      <td>2171847</td>\n      <td>6</td>\n      <td>1362062307</td>\n      <td>2013-02-28 14:38:27</td>\n      <td>0</td>\n      <td>0</td>\n      <td>0</td>\n      <td>0</td>\n      <td>0</td>\n      <td>...</td>\n      <td>0</td>\n      <td>0</td>\n      <td>0</td>\n      <td>0</td>\n      <td>1</td>\n      <td>0</td>\n      <td>0</td>\n      <td>0</td>\n      <td>0</td>\n      <td>0</td>\n    </tr>\n    <tr>\n      <th>1</th>\n      <td>33140</td>\n      <td>444778</td>\n      <td>8</td>\n      <td>1362062624</td>\n      <td>2013-02-28 14:43:44</td>\n      <td>0</td>\n      <td>0</td>\n      <td>0</td>\n      <td>0</td>\n      <td>0</td>\n      <td>...</td>\n      <td>0</td>\n      <td>0</td>\n      <td>0</td>\n      <td>0</td>\n      <td>1</td>\n      <td>0</td>\n      <td>0</td>\n      <td>0</td>\n      <td>0</td>\n      <td>0</td>\n    </tr>\n    <tr>\n      <th>2</th>\n      <td>6338</td>\n      <td>1411238</td>\n      <td>6</td>\n      <td>1362062838</td>\n      <td>2013-02-28 14:47:18</td>\n      <td>0</td>\n      <td>0</td>\n      <td>0</td>\n      <td>0</td>\n      <td>0</td>\n      <td>...</td>\n      <td>0</td>\n      <td>0</td>\n      <td>0</td>\n      <td>0</td>\n      <td>1</td>\n      <td>0</td>\n      <td>0</td>\n      <td>0</td>\n      <td>0</td>\n      <td>0</td>\n    </tr>\n    <tr>\n      <th>3</th>\n      <td>43691</td>\n      <td>1496422</td>\n      <td>7</td>\n      <td>1362063503</td>\n      <td>2013-02-28 14:58:23</td>\n      <td>0</td>\n      <td>0</td>\n      <td>0</td>\n      <td>0</td>\n      <td>0</td>\n      <td>...</td>\n      <td>0</td>\n      <td>0</td>\n      <td>0</td>\n      <td>0</td>\n      <td>1</td>\n      <td>0</td>\n      <td>0</td>\n      <td>0</td>\n      <td>0</td>\n      <td>0</td>\n    </tr>\n    <tr>\n      <th>4</th>\n      <td>33799</td>\n      <td>118799</td>\n      <td>5</td>\n      <td>1362063653</td>\n      <td>2013-02-28 15:00:53</td>\n      <td>0</td>\n      <td>0</td>\n      <td>0</td>\n      <td>0</td>\n      <td>0</td>\n      <td>...</td>\n      <td>0</td>\n      <td>0</td>\n      <td>0</td>\n      <td>0</td>\n      <td>1</td>\n      <td>0</td>\n      <td>0</td>\n      <td>0</td>\n      <td>0</td>\n      <td>0</td>\n    </tr>\n  </tbody>\n</table>\n<p>5 rows × 23 columns</p>\n</div>"
     },
     "metadata": {},
     "execution_count": 4
    }
   ],
   "source": [
    "reviews_df.head()"
   ]
  },
  {
   "source": [
    "### creating ranked df"
   ],
   "cell_type": "markdown",
   "metadata": {}
  },
  {
   "cell_type": "code",
   "execution_count": 8,
   "metadata": {},
   "outputs": [],
   "source": [
    "rating_mean = reviews_df.groupby('movie_id')['rating'].mean()\n",
    "rating_count = reviews_df.groupby('movie_id')['rating'].count()\n",
    "rating_latest = reviews_df.groupby('movie_id')['timestamp'].max()"
   ]
  },
  {
   "cell_type": "code",
   "execution_count": 16,
   "metadata": {},
   "outputs": [
    {
     "output_type": "execute_result",
     "data": {
      "text/plain": [
       "1362633757"
      ]
     },
     "metadata": {},
     "execution_count": 16
    }
   ],
   "source": [
    "rating_latest[20629]"
   ]
  },
  {
   "cell_type": "code",
   "execution_count": 22,
   "metadata": {},
   "outputs": [
    {
     "output_type": "execute_result",
     "data": {
      "text/plain": [
       "       movie_id                                              movie  \\\n",
       "0             8      Edison Kinetoscopic Record of a Sneeze (1894)   \n",
       "1            10                La sortie des usines Lumière (1895)   \n",
       "2            12                      The Arrival of a Train (1896)   \n",
       "3            25  The Oxford and Cambridge University Boat Race ...   \n",
       "4            91                         Le manoir du diable (1896)   \n",
       "...         ...                                                ...   \n",
       "31240   8335880                                      Loro 2 (2018)   \n",
       "31241   8342748         Hari Kondabolu: Warn Your Relatives (2018)   \n",
       "31242   8342946                Tig Notaro: Happy To Be Here (2018)   \n",
       "31243   8402090                              Cumali Ceber 2 (2018)   \n",
       "31244   8439854                                Lust Stories (2018)   \n",
       "\n",
       "                   genre  date  1800's  1900's  2000's  History  News  Horror  \\\n",
       "0      Documentary|Short  1894       1       0       0        0     0       0   \n",
       "1      Documentary|Short  1895       1       0       0        0     0       0   \n",
       "2      Documentary|Short  1896       1       0       0        0     0       0   \n",
       "3                    NaN  1895       1       0       0        0     0       0   \n",
       "4           Short|Horror  1896       1       0       0        0     0       1   \n",
       "...                  ...   ...     ...     ...     ...      ...   ...     ...   \n",
       "31240          Biography  2018       0       0       1        0     0       0   \n",
       "31241             Comedy  2018       0       0       1        0     0       0   \n",
       "31242             Comedy  2018       0       0       1        0     0       0   \n",
       "31243             Comedy  2018       0       0       1        0     0       0   \n",
       "31244              Drama  2018       0       0       1        0     0       0   \n",
       "\n",
       "       ...  Fantasy  Romance  Game-Show  Action  Documentary  Animation  \\\n",
       "0      ...        0        0          0       0            1          0   \n",
       "1      ...        0        0          0       0            1          0   \n",
       "2      ...        0        0          0       0            1          0   \n",
       "3      ...        0        0          0       0            0          0   \n",
       "4      ...        0        0          0       0            0          0   \n",
       "...    ...      ...      ...        ...     ...          ...        ...   \n",
       "31240  ...        0        0          0       0            0          0   \n",
       "31241  ...        0        0          0       0            0          0   \n",
       "31242  ...        0        0          0       0            0          0   \n",
       "31243  ...        0        0          0       0            0          0   \n",
       "31244  ...        0        0          0       0            0          0   \n",
       "\n",
       "       Comedy  Short  Western  Thriller  \n",
       "0           0      1        0         0  \n",
       "1           0      1        0         0  \n",
       "2           0      1        0         0  \n",
       "3           0      0        0         0  \n",
       "4           0      1        0         0  \n",
       "...       ...    ...      ...       ...  \n",
       "31240       0      0        0         0  \n",
       "31241       1      0        0         0  \n",
       "31242       1      0        0         0  \n",
       "31243       1      0        0         0  \n",
       "31244       0      0        0         0  \n",
       "\n",
       "[31245 rows x 35 columns]"
      ],
      "text/html": "<div>\n<style scoped>\n    .dataframe tbody tr th:only-of-type {\n        vertical-align: middle;\n    }\n\n    .dataframe tbody tr th {\n        vertical-align: top;\n    }\n\n    .dataframe thead th {\n        text-align: right;\n    }\n</style>\n<table border=\"1\" class=\"dataframe\">\n  <thead>\n    <tr style=\"text-align: right;\">\n      <th></th>\n      <th>movie_id</th>\n      <th>movie</th>\n      <th>genre</th>\n      <th>date</th>\n      <th>1800's</th>\n      <th>1900's</th>\n      <th>2000's</th>\n      <th>History</th>\n      <th>News</th>\n      <th>Horror</th>\n      <th>...</th>\n      <th>Fantasy</th>\n      <th>Romance</th>\n      <th>Game-Show</th>\n      <th>Action</th>\n      <th>Documentary</th>\n      <th>Animation</th>\n      <th>Comedy</th>\n      <th>Short</th>\n      <th>Western</th>\n      <th>Thriller</th>\n    </tr>\n  </thead>\n  <tbody>\n    <tr>\n      <th>0</th>\n      <td>8</td>\n      <td>Edison Kinetoscopic Record of a Sneeze (1894)</td>\n      <td>Documentary|Short</td>\n      <td>1894</td>\n      <td>1</td>\n      <td>0</td>\n      <td>0</td>\n      <td>0</td>\n      <td>0</td>\n      <td>0</td>\n      <td>...</td>\n      <td>0</td>\n      <td>0</td>\n      <td>0</td>\n      <td>0</td>\n      <td>1</td>\n      <td>0</td>\n      <td>0</td>\n      <td>1</td>\n      <td>0</td>\n      <td>0</td>\n    </tr>\n    <tr>\n      <th>1</th>\n      <td>10</td>\n      <td>La sortie des usines Lumière (1895)</td>\n      <td>Documentary|Short</td>\n      <td>1895</td>\n      <td>1</td>\n      <td>0</td>\n      <td>0</td>\n      <td>0</td>\n      <td>0</td>\n      <td>0</td>\n      <td>...</td>\n      <td>0</td>\n      <td>0</td>\n      <td>0</td>\n      <td>0</td>\n      <td>1</td>\n      <td>0</td>\n      <td>0</td>\n      <td>1</td>\n      <td>0</td>\n      <td>0</td>\n    </tr>\n    <tr>\n      <th>2</th>\n      <td>12</td>\n      <td>The Arrival of a Train (1896)</td>\n      <td>Documentary|Short</td>\n      <td>1896</td>\n      <td>1</td>\n      <td>0</td>\n      <td>0</td>\n      <td>0</td>\n      <td>0</td>\n      <td>0</td>\n      <td>...</td>\n      <td>0</td>\n      <td>0</td>\n      <td>0</td>\n      <td>0</td>\n      <td>1</td>\n      <td>0</td>\n      <td>0</td>\n      <td>1</td>\n      <td>0</td>\n      <td>0</td>\n    </tr>\n    <tr>\n      <th>3</th>\n      <td>25</td>\n      <td>The Oxford and Cambridge University Boat Race ...</td>\n      <td>NaN</td>\n      <td>1895</td>\n      <td>1</td>\n      <td>0</td>\n      <td>0</td>\n      <td>0</td>\n      <td>0</td>\n      <td>0</td>\n      <td>...</td>\n      <td>0</td>\n      <td>0</td>\n      <td>0</td>\n      <td>0</td>\n      <td>0</td>\n      <td>0</td>\n      <td>0</td>\n      <td>0</td>\n      <td>0</td>\n      <td>0</td>\n    </tr>\n    <tr>\n      <th>4</th>\n      <td>91</td>\n      <td>Le manoir du diable (1896)</td>\n      <td>Short|Horror</td>\n      <td>1896</td>\n      <td>1</td>\n      <td>0</td>\n      <td>0</td>\n      <td>0</td>\n      <td>0</td>\n      <td>1</td>\n      <td>...</td>\n      <td>0</td>\n      <td>0</td>\n      <td>0</td>\n      <td>0</td>\n      <td>0</td>\n      <td>0</td>\n      <td>0</td>\n      <td>1</td>\n      <td>0</td>\n      <td>0</td>\n    </tr>\n    <tr>\n      <th>...</th>\n      <td>...</td>\n      <td>...</td>\n      <td>...</td>\n      <td>...</td>\n      <td>...</td>\n      <td>...</td>\n      <td>...</td>\n      <td>...</td>\n      <td>...</td>\n      <td>...</td>\n      <td>...</td>\n      <td>...</td>\n      <td>...</td>\n      <td>...</td>\n      <td>...</td>\n      <td>...</td>\n      <td>...</td>\n      <td>...</td>\n      <td>...</td>\n      <td>...</td>\n      <td>...</td>\n    </tr>\n    <tr>\n      <th>31240</th>\n      <td>8335880</td>\n      <td>Loro 2 (2018)</td>\n      <td>Biography</td>\n      <td>2018</td>\n      <td>0</td>\n      <td>0</td>\n      <td>1</td>\n      <td>0</td>\n      <td>0</td>\n      <td>0</td>\n      <td>...</td>\n      <td>0</td>\n      <td>0</td>\n      <td>0</td>\n      <td>0</td>\n      <td>0</td>\n      <td>0</td>\n      <td>0</td>\n      <td>0</td>\n      <td>0</td>\n      <td>0</td>\n    </tr>\n    <tr>\n      <th>31241</th>\n      <td>8342748</td>\n      <td>Hari Kondabolu: Warn Your Relatives (2018)</td>\n      <td>Comedy</td>\n      <td>2018</td>\n      <td>0</td>\n      <td>0</td>\n      <td>1</td>\n      <td>0</td>\n      <td>0</td>\n      <td>0</td>\n      <td>...</td>\n      <td>0</td>\n      <td>0</td>\n      <td>0</td>\n      <td>0</td>\n      <td>0</td>\n      <td>0</td>\n      <td>1</td>\n      <td>0</td>\n      <td>0</td>\n      <td>0</td>\n    </tr>\n    <tr>\n      <th>31242</th>\n      <td>8342946</td>\n      <td>Tig Notaro: Happy To Be Here (2018)</td>\n      <td>Comedy</td>\n      <td>2018</td>\n      <td>0</td>\n      <td>0</td>\n      <td>1</td>\n      <td>0</td>\n      <td>0</td>\n      <td>0</td>\n      <td>...</td>\n      <td>0</td>\n      <td>0</td>\n      <td>0</td>\n      <td>0</td>\n      <td>0</td>\n      <td>0</td>\n      <td>1</td>\n      <td>0</td>\n      <td>0</td>\n      <td>0</td>\n    </tr>\n    <tr>\n      <th>31243</th>\n      <td>8402090</td>\n      <td>Cumali Ceber 2 (2018)</td>\n      <td>Comedy</td>\n      <td>2018</td>\n      <td>0</td>\n      <td>0</td>\n      <td>1</td>\n      <td>0</td>\n      <td>0</td>\n      <td>0</td>\n      <td>...</td>\n      <td>0</td>\n      <td>0</td>\n      <td>0</td>\n      <td>0</td>\n      <td>0</td>\n      <td>0</td>\n      <td>1</td>\n      <td>0</td>\n      <td>0</td>\n      <td>0</td>\n    </tr>\n    <tr>\n      <th>31244</th>\n      <td>8439854</td>\n      <td>Lust Stories (2018)</td>\n      <td>Drama</td>\n      <td>2018</td>\n      <td>0</td>\n      <td>0</td>\n      <td>1</td>\n      <td>0</td>\n      <td>0</td>\n      <td>0</td>\n      <td>...</td>\n      <td>0</td>\n      <td>0</td>\n      <td>0</td>\n      <td>0</td>\n      <td>0</td>\n      <td>0</td>\n      <td>0</td>\n      <td>0</td>\n      <td>0</td>\n      <td>0</td>\n    </tr>\n  </tbody>\n</table>\n<p>31245 rows × 35 columns</p>\n</div>"
     },
     "metadata": {},
     "execution_count": 22
    }
   ],
   "source": [
    "movies_df"
   ]
  },
  {
   "cell_type": "code",
   "execution_count": 34,
   "metadata": {},
   "outputs": [],
   "source": [
    "def create_ranked_df(movies_df: pd.DataFrame = movies_df, reviews_df: pd.DataFrame = reviews_df):\n",
    "    rating_mean = reviews_df.groupby('movie_id')['rating'].mean()\n",
    "    rating_count = reviews_df.groupby('movie_id')['rating'].count()\n",
    "    rating_latest = reviews_df.groupby('movie_id')['timestamp'].max()\n",
    "    rating_df = pd.DataFrame({\"mean\": rating_mean, \"count\": rating_count, \"latest_ts\": rating_latest})\n",
    "    # rating_df['movie_id'] = rating_df.index\n",
    "\n",
    "    ranked_movie = movies_df.merge(rating_df, how='left', on='movie_id', left_index=True)\n",
    "    ranked_movie.sort_values([\"mean\",\"count\",\"latest_ts\"], ascending=False, inplace=True)\n",
    "    ranked_movie = ranked_movie[ranked_movie['count'] > 4][[\"movie\", \"mean\",\"count\",\"latest_ts\"]]\n",
    "\n",
    "    return ranked_movie\n",
    "    \n"
   ]
  },
  {
   "cell_type": "code",
   "execution_count": 35,
   "metadata": {},
   "outputs": [
    {
     "output_type": "execute_result",
     "data": {
      "text/plain": [
       "                               movie      mean  count     latest_ts\n",
       "421.0              Goodfellas (1990)  9.666667    9.0  1.363098e+09\n",
       "1550.0          Step Brothers (2008)  9.600000    5.0  1.363266e+09\n",
       "771.0         American Beauty (1999)  9.600000    5.0  1.363108e+09\n",
       "1404.0    There Will Be Blood (2007)  9.600000    5.0  1.363088e+09\n",
       "1834.0            Gran Torino (2008)  9.600000    5.0  1.363067e+09\n",
       "...                              ...       ...    ...           ...\n",
       "2565.0  Paranormal Activity 4 (2012)  4.333333   12.0  1.362982e+09\n",
       "2323.0           Lovely Molly (2011)  3.777778    9.0  1.363307e+09\n",
       "1966.0               Movie 43 (2013)  3.714286    7.0  1.362860e+09\n",
       "1732.0       The Darkest Hour (2011)  3.600000    5.0  1.363200e+09\n",
       "2145.0                Skyline (2010)  2.166667    6.0  1.362871e+09\n",
       "\n",
       "[252 rows x 4 columns]"
      ],
      "text/html": "<div>\n<style scoped>\n    .dataframe tbody tr th:only-of-type {\n        vertical-align: middle;\n    }\n\n    .dataframe tbody tr th {\n        vertical-align: top;\n    }\n\n    .dataframe thead th {\n        text-align: right;\n    }\n</style>\n<table border=\"1\" class=\"dataframe\">\n  <thead>\n    <tr style=\"text-align: right;\">\n      <th></th>\n      <th>movie</th>\n      <th>mean</th>\n      <th>count</th>\n      <th>latest_ts</th>\n    </tr>\n  </thead>\n  <tbody>\n    <tr>\n      <th>421.0</th>\n      <td>Goodfellas (1990)</td>\n      <td>9.666667</td>\n      <td>9.0</td>\n      <td>1.363098e+09</td>\n    </tr>\n    <tr>\n      <th>1550.0</th>\n      <td>Step Brothers (2008)</td>\n      <td>9.600000</td>\n      <td>5.0</td>\n      <td>1.363266e+09</td>\n    </tr>\n    <tr>\n      <th>771.0</th>\n      <td>American Beauty (1999)</td>\n      <td>9.600000</td>\n      <td>5.0</td>\n      <td>1.363108e+09</td>\n    </tr>\n    <tr>\n      <th>1404.0</th>\n      <td>There Will Be Blood (2007)</td>\n      <td>9.600000</td>\n      <td>5.0</td>\n      <td>1.363088e+09</td>\n    </tr>\n    <tr>\n      <th>1834.0</th>\n      <td>Gran Torino (2008)</td>\n      <td>9.600000</td>\n      <td>5.0</td>\n      <td>1.363067e+09</td>\n    </tr>\n    <tr>\n      <th>...</th>\n      <td>...</td>\n      <td>...</td>\n      <td>...</td>\n      <td>...</td>\n    </tr>\n    <tr>\n      <th>2565.0</th>\n      <td>Paranormal Activity 4 (2012)</td>\n      <td>4.333333</td>\n      <td>12.0</td>\n      <td>1.362982e+09</td>\n    </tr>\n    <tr>\n      <th>2323.0</th>\n      <td>Lovely Molly (2011)</td>\n      <td>3.777778</td>\n      <td>9.0</td>\n      <td>1.363307e+09</td>\n    </tr>\n    <tr>\n      <th>1966.0</th>\n      <td>Movie 43 (2013)</td>\n      <td>3.714286</td>\n      <td>7.0</td>\n      <td>1.362860e+09</td>\n    </tr>\n    <tr>\n      <th>1732.0</th>\n      <td>The Darkest Hour (2011)</td>\n      <td>3.600000</td>\n      <td>5.0</td>\n      <td>1.363200e+09</td>\n    </tr>\n    <tr>\n      <th>2145.0</th>\n      <td>Skyline (2010)</td>\n      <td>2.166667</td>\n      <td>6.0</td>\n      <td>1.362871e+09</td>\n    </tr>\n  </tbody>\n</table>\n<p>252 rows × 4 columns</p>\n</div>"
     },
     "metadata": {},
     "execution_count": 35
    }
   ],
   "source": [
    "create_ranked_df()"
   ]
  }
 ]
}