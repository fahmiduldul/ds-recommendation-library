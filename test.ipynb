{
 "metadata": {
  "language_info": {
   "codemirror_mode": {
    "name": "ipython",
    "version": 3
   },
   "file_extension": ".py",
   "mimetype": "text/x-python",
   "name": "python",
   "nbconvert_exporter": "python",
   "pygments_lexer": "ipython3",
   "version": "3.9.0-final"
  },
  "orig_nbformat": 2,
  "kernelspec": {
   "name": "python3",
   "display_name": "Python 3",
   "language": "python"
  }
 },
 "nbformat": 4,
 "nbformat_minor": 2,
 "cells": [
  {
   "cell_type": "code",
   "execution_count": 1,
   "metadata": {},
   "outputs": [],
   "source": [
    "import numpy as np\n",
    "import pandas as pd\n",
    "import recommender_functions as rf"
   ]
  },
  {
   "cell_type": "code",
   "execution_count": 2,
   "metadata": {},
   "outputs": [],
   "source": [
    "movies_df = pd.read_csv('./data/movies_clean.csv')\n",
    "reviews_df = pd.read_csv('./data/train_data.csv')"
   ]
  },
  {
   "cell_type": "code",
   "execution_count": 3,
   "metadata": {},
   "outputs": [],
   "source": [
    "ranked_df = rf.create_ranked_movies(movies_df,reviews_df)"
   ]
  },
  {
   "cell_type": "code",
   "execution_count": 4,
   "metadata": {},
   "outputs": [
    {
     "output_type": "execute_result",
     "data": {
      "text/plain": [
       "                             movie      mean  count     latest_ts\n",
       "421.0            Goodfellas (1990)  9.666667    9.0  1.363098e+09\n",
       "1550.0        Step Brothers (2008)  9.600000    5.0  1.363266e+09\n",
       "771.0       American Beauty (1999)  9.600000    5.0  1.363108e+09\n",
       "1404.0  There Will Be Blood (2007)  9.600000    5.0  1.363088e+09\n",
       "1834.0          Gran Torino (2008)  9.600000    5.0  1.363067e+09"
      ],
      "text/html": "<div>\n<style scoped>\n    .dataframe tbody tr th:only-of-type {\n        vertical-align: middle;\n    }\n\n    .dataframe tbody tr th {\n        vertical-align: top;\n    }\n\n    .dataframe thead th {\n        text-align: right;\n    }\n</style>\n<table border=\"1\" class=\"dataframe\">\n  <thead>\n    <tr style=\"text-align: right;\">\n      <th></th>\n      <th>movie</th>\n      <th>mean</th>\n      <th>count</th>\n      <th>latest_ts</th>\n    </tr>\n  </thead>\n  <tbody>\n    <tr>\n      <th>421.0</th>\n      <td>Goodfellas (1990)</td>\n      <td>9.666667</td>\n      <td>9.0</td>\n      <td>1.363098e+09</td>\n    </tr>\n    <tr>\n      <th>1550.0</th>\n      <td>Step Brothers (2008)</td>\n      <td>9.600000</td>\n      <td>5.0</td>\n      <td>1.363266e+09</td>\n    </tr>\n    <tr>\n      <th>771.0</th>\n      <td>American Beauty (1999)</td>\n      <td>9.600000</td>\n      <td>5.0</td>\n      <td>1.363108e+09</td>\n    </tr>\n    <tr>\n      <th>1404.0</th>\n      <td>There Will Be Blood (2007)</td>\n      <td>9.600000</td>\n      <td>5.0</td>\n      <td>1.363088e+09</td>\n    </tr>\n    <tr>\n      <th>1834.0</th>\n      <td>Gran Torino (2008)</td>\n      <td>9.600000</td>\n      <td>5.0</td>\n      <td>1.363067e+09</td>\n    </tr>\n  </tbody>\n</table>\n</div>"
     },
     "metadata": {},
     "execution_count": 4
    }
   ],
   "source": [
    "ranked_df.head()"
   ]
  },
  {
   "cell_type": "code",
   "execution_count": 5,
   "metadata": {},
   "outputs": [
    {
     "output_type": "execute_result",
     "data": {
      "text/plain": [
       "['Goodfellas (1990)', 'Step Brothers (2008)']"
      ]
     },
     "metadata": {},
     "execution_count": 5
    }
   ],
   "source": [
    "list(ranked_df['movie'].iloc[:2])"
   ]
  },
  {
   "cell_type": "code",
   "execution_count": 10,
   "metadata": {},
   "outputs": [
    {
     "output_type": "stream",
     "name": "stdout",
     "text": [
      "[0 1 0 0 0 0 0 0 0 0 0 0 0 0 0 0 0 0 0 0 0 0 0 0 0 0 0 1 1 0 0]\n"
     ]
    },
    {
     "output_type": "execute_result",
     "data": {
      "text/plain": [
       "'The Champion (1915)'"
      ]
     },
     "metadata": {},
     "execution_count": 10
    }
   ],
   "source": [
    "rf.find_similiar_movies(4100,movies_df)"
   ]
  },
  {
   "cell_type": "code",
   "execution_count": 11,
   "metadata": {},
   "outputs": [],
   "source": [
    "a = np.array([[1,2,3,4],[5,6,7,8]])"
   ]
  },
  {
   "cell_type": "code",
   "execution_count": 17,
   "metadata": {},
   "outputs": [
    {
     "output_type": "execute_result",
     "data": {
      "text/plain": [
       "(array([3]),)"
      ]
     },
     "metadata": {},
     "execution_count": 17
    }
   ],
   "source": []
  }
 ]
}